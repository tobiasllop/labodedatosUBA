{
 "cells": [
  {
   "cell_type": "markdown",
   "metadata": {},
   "source": [
    "# Evaluación de Modelos\n",
    "\n",
    "**Objetivo:** dada los datos de una canción (una fila en nuestro dataset) poder predecir si esta en Folklore o Evermore o es de otro álbum.\n",
    "\n",
    "**Datos:** dataset con distintas variables de las canciones de Taylor Swift."
   ]
  },
  {
   "cell_type": "code",
   "execution_count": 36,
   "metadata": {},
   "outputs": [],
   "source": [
    "import pandas as pd\n",
    "import utils\n",
    "from sklearn.neighbors import KNeighborsClassifier\n",
    "from sklearn.model_selection import train_test_split, cross_val_score, KFold, RandomizedSearchCV"
   ]
  },
  {
   "cell_type": "markdown",
   "metadata": {},
   "source": [
    "#### Cargamos el dataset -- la función load_dataset limpia un poco los datos"
   ]
  },
  {
   "cell_type": "code",
   "execution_count": 6,
   "metadata": {},
   "outputs": [
    {
     "data": {
      "text/html": [
       "<div>\n",
       "<style scoped>\n",
       "    .dataframe tbody tr th:only-of-type {\n",
       "        vertical-align: middle;\n",
       "    }\n",
       "\n",
       "    .dataframe tbody tr th {\n",
       "        vertical-align: top;\n",
       "    }\n",
       "\n",
       "    .dataframe thead th {\n",
       "        text-align: right;\n",
       "    }\n",
       "</style>\n",
       "<table border=\"1\" class=\"dataframe\">\n",
       "  <thead>\n",
       "    <tr style=\"text-align: right;\">\n",
       "      <th></th>\n",
       "      <th>track_name</th>\n",
       "      <th>danceability</th>\n",
       "      <th>energy</th>\n",
       "      <th>key</th>\n",
       "      <th>loudness</th>\n",
       "      <th>mode</th>\n",
       "      <th>speechiness</th>\n",
       "      <th>acousticness</th>\n",
       "      <th>instrumentalness</th>\n",
       "      <th>liveness</th>\n",
       "      <th>valence</th>\n",
       "      <th>tempo</th>\n",
       "      <th>time_signature</th>\n",
       "      <th>duration_ms</th>\n",
       "      <th>is_folklore_or_evermore</th>\n",
       "    </tr>\n",
       "  </thead>\n",
       "  <tbody>\n",
       "    <tr>\n",
       "      <th>0</th>\n",
       "      <td>Tim McGraw</td>\n",
       "      <td>0.580</td>\n",
       "      <td>0.491</td>\n",
       "      <td>0.0</td>\n",
       "      <td>-6.462</td>\n",
       "      <td>1.0</td>\n",
       "      <td>0.0251</td>\n",
       "      <td>0.575</td>\n",
       "      <td>0.0</td>\n",
       "      <td>0.1210</td>\n",
       "      <td>0.425</td>\n",
       "      <td>76.009</td>\n",
       "      <td>4.0</td>\n",
       "      <td>232107.0</td>\n",
       "      <td>False</td>\n",
       "    </tr>\n",
       "    <tr>\n",
       "      <th>1</th>\n",
       "      <td>Picture To Burn</td>\n",
       "      <td>0.658</td>\n",
       "      <td>0.877</td>\n",
       "      <td>7.0</td>\n",
       "      <td>-2.098</td>\n",
       "      <td>1.0</td>\n",
       "      <td>0.0323</td>\n",
       "      <td>0.173</td>\n",
       "      <td>0.0</td>\n",
       "      <td>0.0962</td>\n",
       "      <td>0.821</td>\n",
       "      <td>105.586</td>\n",
       "      <td>4.0</td>\n",
       "      <td>173067.0</td>\n",
       "      <td>False</td>\n",
       "    </tr>\n",
       "    <tr>\n",
       "      <th>2</th>\n",
       "      <td>Teardrops On My Guitar</td>\n",
       "      <td>0.621</td>\n",
       "      <td>0.417</td>\n",
       "      <td>10.0</td>\n",
       "      <td>-6.941</td>\n",
       "      <td>1.0</td>\n",
       "      <td>0.0231</td>\n",
       "      <td>0.288</td>\n",
       "      <td>0.0</td>\n",
       "      <td>0.1190</td>\n",
       "      <td>0.289</td>\n",
       "      <td>99.953</td>\n",
       "      <td>4.0</td>\n",
       "      <td>203040.0</td>\n",
       "      <td>False</td>\n",
       "    </tr>\n",
       "    <tr>\n",
       "      <th>3</th>\n",
       "      <td>A Place In This World</td>\n",
       "      <td>0.576</td>\n",
       "      <td>0.777</td>\n",
       "      <td>9.0</td>\n",
       "      <td>-2.881</td>\n",
       "      <td>1.0</td>\n",
       "      <td>0.0324</td>\n",
       "      <td>0.051</td>\n",
       "      <td>0.0</td>\n",
       "      <td>0.3200</td>\n",
       "      <td>0.428</td>\n",
       "      <td>115.028</td>\n",
       "      <td>4.0</td>\n",
       "      <td>199200.0</td>\n",
       "      <td>False</td>\n",
       "    </tr>\n",
       "    <tr>\n",
       "      <th>4</th>\n",
       "      <td>Cold As You</td>\n",
       "      <td>0.418</td>\n",
       "      <td>0.482</td>\n",
       "      <td>5.0</td>\n",
       "      <td>-5.769</td>\n",
       "      <td>1.0</td>\n",
       "      <td>0.0266</td>\n",
       "      <td>0.217</td>\n",
       "      <td>0.0</td>\n",
       "      <td>0.1230</td>\n",
       "      <td>0.261</td>\n",
       "      <td>175.558</td>\n",
       "      <td>4.0</td>\n",
       "      <td>239013.0</td>\n",
       "      <td>False</td>\n",
       "    </tr>\n",
       "  </tbody>\n",
       "</table>\n",
       "</div>"
      ],
      "text/plain": [
       "               track_name  danceability  energy   key  loudness  mode  \\\n",
       "0              Tim McGraw         0.580   0.491   0.0    -6.462   1.0   \n",
       "1         Picture To Burn         0.658   0.877   7.0    -2.098   1.0   \n",
       "2  Teardrops On My Guitar         0.621   0.417  10.0    -6.941   1.0   \n",
       "3   A Place In This World         0.576   0.777   9.0    -2.881   1.0   \n",
       "4             Cold As You         0.418   0.482   5.0    -5.769   1.0   \n",
       "\n",
       "   speechiness  acousticness  instrumentalness  liveness  valence    tempo  \\\n",
       "0       0.0251         0.575               0.0    0.1210    0.425   76.009   \n",
       "1       0.0323         0.173               0.0    0.0962    0.821  105.586   \n",
       "2       0.0231         0.288               0.0    0.1190    0.289   99.953   \n",
       "3       0.0324         0.051               0.0    0.3200    0.428  115.028   \n",
       "4       0.0266         0.217               0.0    0.1230    0.261  175.558   \n",
       "\n",
       "   time_signature  duration_ms  is_folklore_or_evermore  \n",
       "0             4.0     232107.0                    False  \n",
       "1             4.0     173067.0                    False  \n",
       "2             4.0     203040.0                    False  \n",
       "3             4.0     199200.0                    False  \n",
       "4             4.0     239013.0                    False  "
      ]
     },
     "execution_count": 6,
     "metadata": {},
     "output_type": "execute_result"
    }
   ],
   "source": [
    "df_taylor = utils.load_dataset_taylor(\"/home/clinux01/Descargas/taylor_album_songs.csv\")\n",
    "df_taylor.head()"
   ]
  },
  {
   "cell_type": "markdown",
   "metadata": {},
   "source": [
    "### Separemos los labels y eliminamos el nombre de la canción"
   ]
  },
  {
   "cell_type": "code",
   "execution_count": 7,
   "metadata": {},
   "outputs": [],
   "source": [
    "X = df_taylor.drop(columns = ['track_name', 'is_folklore_or_evermore'])\n",
    "y = df_taylor['is_folklore_or_evermore']"
   ]
  },
  {
   "cell_type": "code",
   "execution_count": 19,
   "metadata": {},
   "outputs": [
    {
     "name": "stdout",
     "output_type": "stream",
     "text": [
      "R^2 (train ): 0.85\n"
     ]
    }
   ],
   "source": [
    "# Complete aqui con su clasificador de preferencia!\n",
    "\n",
    "\n",
    "k = 3 # Cantidad de vecinos\n",
    "\n",
    "# Declaramos el tipo de modelo\n",
    "neigh = KNeighborsClassifier(n_neighbors = k) \n",
    "\n",
    "# Entrenamos el modelo\n",
    "neigh.fit(X, y) \n",
    "\n",
    "#R2\n",
    "print(\"R^2 (train ): %.2f\" % neigh.score(X, y))\n"
   ]
  },
  {
   "cell_type": "code",
   "execution_count": 25,
   "metadata": {},
   "outputs": [],
   "source": [
    "X_train, X_test, y_train, y_test = train_test_split(df_taylor, y, test_size = 0.1, random_state= 7, stratify=y)"
   ]
  },
  {
   "cell_type": "code",
   "execution_count": 30,
   "metadata": {},
   "outputs": [
    {
     "data": {
      "text/plain": [
       "array([0.74358974, 0.76315789, 0.73684211, 0.78947368, 0.89473684])"
      ]
     },
     "execution_count": 30,
     "metadata": {},
     "output_type": "execute_result"
    }
   ],
   "source": [
    "#Cross val\n",
    "cross_val_score(neigh, X, y, cv=5)"
   ]
  },
  {
   "cell_type": "code",
   "execution_count": 34,
   "metadata": {},
   "outputs": [
    {
     "data": {
      "text/plain": [
       "[(array([  1,   8,   9,  10,  11,  13,  16,  19,  20,  21,  27,  29,  31,\n",
       "          33,  34,  36,  44,  45,  46,  48,  49,  50,  52,  53,  54,  55,\n",
       "          59,  61,  63,  65,  67,  68,  70,  72,  74,  75,  77,  78,  81,\n",
       "          82,  84,  85,  88,  91,  92,  94,  97, 100, 101, 102, 104, 109,\n",
       "         111, 112, 113, 114, 116, 119, 120, 122, 123, 125, 126, 129, 132,\n",
       "         134, 135, 136, 137, 140, 143, 144, 145, 146, 147, 148, 149, 150,\n",
       "         152, 159, 160, 165, 167, 168, 169, 173, 175, 176, 177, 178, 181,\n",
       "         185, 186, 187, 190]),\n",
       "  array([  0,   2,   3,   4,   5,   6,   7,  12,  14,  15,  17,  18,  22,\n",
       "          23,  24,  25,  26,  28,  30,  32,  35,  37,  38,  39,  40,  41,\n",
       "          42,  43,  47,  51,  56,  57,  58,  60,  62,  64,  66,  69,  71,\n",
       "          73,  76,  79,  80,  83,  86,  87,  89,  90,  93,  95,  96,  98,\n",
       "          99, 103, 105, 106, 107, 108, 110, 115, 117, 118, 121, 124, 127,\n",
       "         128, 130, 131, 133, 138, 139, 141, 142, 151, 153, 154, 155, 156,\n",
       "         157, 158, 161, 162, 163, 164, 166, 170, 171, 172, 174, 179, 180,\n",
       "         182, 183, 184, 188, 189])),\n",
       " (array([  0,   2,   3,   4,   5,   6,   7,  12,  14,  15,  17,  18,  22,\n",
       "          23,  24,  25,  26,  28,  30,  32,  35,  37,  38,  39,  40,  41,\n",
       "          42,  43,  47,  51,  56,  57,  58,  60,  62,  64,  66,  69,  71,\n",
       "          73,  76,  79,  80,  83,  86,  87,  89,  90,  93,  95,  96,  98,\n",
       "          99, 103, 105, 106, 107, 108, 110, 115, 117, 118, 121, 124, 127,\n",
       "         128, 130, 131, 133, 138, 139, 141, 142, 151, 153, 154, 155, 156,\n",
       "         157, 158, 161, 162, 163, 164, 166, 170, 171, 172, 174, 179, 180,\n",
       "         182, 183, 184, 188, 189]),\n",
       "  array([  1,   8,   9,  10,  11,  13,  16,  19,  20,  21,  27,  29,  31,\n",
       "          33,  34,  36,  44,  45,  46,  48,  49,  50,  52,  53,  54,  55,\n",
       "          59,  61,  63,  65,  67,  68,  70,  72,  74,  75,  77,  78,  81,\n",
       "          82,  84,  85,  88,  91,  92,  94,  97, 100, 101, 102, 104, 109,\n",
       "         111, 112, 113, 114, 116, 119, 120, 122, 123, 125, 126, 129, 132,\n",
       "         134, 135, 136, 137, 140, 143, 144, 145, 146, 147, 148, 149, 150,\n",
       "         152, 159, 160, 165, 167, 168, 169, 173, 175, 176, 177, 178, 181,\n",
       "         185, 186, 187, 190]))]"
      ]
     },
     "execution_count": 34,
     "metadata": {},
     "output_type": "execute_result"
    }
   ],
   "source": [
    "#Kfold\n",
    "kf = KFold(n_splits=2, shuffle=True)\n",
    "list(kf.split(X, y))"
   ]
  },
  {
   "cell_type": "code",
   "execution_count": 53,
   "metadata": {},
   "outputs": [
    {
     "data": {
      "text/plain": [
       "{'n_neighbors': 8}"
      ]
     },
     "execution_count": 53,
     "metadata": {},
     "output_type": "execute_result"
    }
   ],
   "source": [
    "hyper_params = {'n_neighbors': [2,3,4,5,6,7,8,9,10,11]}\n",
    "clf = RandomizedSearchCV(neigh, hyper_params, random_state=0)\n",
    "search = clf.fit(X, y)\n",
    "#Pido el mejor parámetro\n",
    "search.best_params_"
   ]
  },
  {
   "cell_type": "code",
   "execution_count": 54,
   "metadata": {},
   "outputs": [
    {
     "data": {
      "text/plain": [
       "0.8219973009446694"
      ]
     },
     "execution_count": 54,
     "metadata": {},
     "output_type": "execute_result"
    }
   ],
   "source": [
    "#Pido el crossval-score\n",
    "search.best_score_"
   ]
  },
  {
   "cell_type": "code",
   "execution_count": null,
   "metadata": {},
   "outputs": [],
   "source": []
  }
 ],
 "metadata": {
  "kernelspec": {
   "display_name": "Python 3",
   "language": "python",
   "name": "python3"
  },
  "language_info": {
   "codemirror_mode": {
    "name": "ipython",
    "version": 3
   },
   "file_extension": ".py",
   "mimetype": "text/x-python",
   "name": "python",
   "nbconvert_exporter": "python",
   "pygments_lexer": "ipython3",
   "version": "3.8.10"
  },
  "vscode": {
   "interpreter": {
    "hash": "dd2b37eb247ff73e895558294226b942e7dd3b04397c261abd6eb39e4e858cfc"
   }
  }
 },
 "nbformat": 4,
 "nbformat_minor": 4
}
